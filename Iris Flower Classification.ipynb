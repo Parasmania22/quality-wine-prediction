{
  "metadata": {
    "language_info": {
      "name": ""
    },
    "kernelspec": {
      "name": "python",
      "display_name": "Python (Pyodide)",
      "language": "python"
    }
  },
  "nbformat_minor": 4,
  "nbformat": 4,
  "cells": [
    {
      "cell_type": "code",
      "source": "from scipy.spatial import distance\ndef eu(a, b):\n\treturn distance.euclidean(a, b)\n\nclass KNN:\n\tdef fit(self, x_train, y_train):\n\t\tself.x_train = x_train\n\t\tself.y_train = y_train\n\n\tdef predict(self, x_test):\n\t\tpredictions = []\n\t\tfor row in x_test:\n\t\t\tlabel = self.closest(row)\n\t\t\tpredictions.append(label)\n\t\treturn predictions\n\n\tdef closest(self, row):\n\t\tbest_dist = eu(row, self.x_train[0])\n\t\tbest_index = 0\n\t\tfor i in range (1, len(self.x_train)):\n\t\t\tdist = eu(row, self.x_train[i])\n\t\t\tif dist < best_dist:\n\t\t\t\tbest_dist = dist\n\t\t\t\tbest_index = i\n\t\treturn self.y_train[best_index]\n\nfrom sklearn.datasets import load_iris\niris = load_iris()\nx = iris.data\ny = iris.target\n\nfrom sklearn.cross_validation import train_test_split\nx_train, x_test, y_train, y_test = train_test_split(x, y, test_size = 0.2)\n\nclf = KNN()\nclf.fit(x_train, y_train)\nprediction = clf.predict(x_test)\n\nfrom sklearn.metrics import accuracy_score as acs\nprint(acs(prediction, y_test))\n",
      "metadata": {},
      "execution_count": null,
      "outputs": []
    }
  ]
}